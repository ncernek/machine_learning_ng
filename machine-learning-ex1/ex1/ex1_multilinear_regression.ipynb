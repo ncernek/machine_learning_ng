{
 "cells": [
  {
   "cell_type": "markdown",
   "metadata": {},
   "source": [
    "# intro to machine learning\n",
    "## exercise 1: linear regression"
   ]
  },
  {
   "cell_type": "code",
   "execution_count": 350,
   "metadata": {},
   "outputs": [],
   "source": [
    "import pandas as pd\n",
    "import numpy as np\n",
    "import matplotlib.pyplot as plt\n",
    "import seaborn as sns\n",
    "%matplotlib inline"
   ]
  },
  {
   "cell_type": "markdown",
   "metadata": {},
   "source": [
    "### set up test case"
   ]
  },
  {
   "cell_type": "code",
   "execution_count": 351,
   "metadata": {},
   "outputs": [
    {
     "data": {
      "text/plain": [
       "[<matplotlib.lines.Line2D at 0x10eb5e588>]"
      ]
     },
     "execution_count": 351,
     "metadata": {},
     "output_type": "execute_result"
    },
    {
     "data": {
      "image/png": "[encoded data removed]",
      "text/plain": [
       "<matplotlib.figure.Figure at 0x10ec41be0>"
      ]
     },
     "metadata": {},
     "output_type": "display_data"
    }
   ],
   "source": [
    "# two random features\n",
    "test_X = pd.DataFrame([\n",
    "    [1, 2, 3,],\n",
    "    [10, 15, 25,]\n",
    "]).transpose()\n",
    "\n",
    "test_theta = [5, 10, 1]\n",
    "\n",
    "test_y = pd.Series([10, 20, 40])\n",
    "\n",
    "plt.plot(test_X[0], test_y)\n",
    "plt.plot(test_X[1], test_y)"
   ]
  },
  {
   "cell_type": "markdown",
   "metadata": {},
   "source": [
    "### feature normalization\n",
    "subtract by mean and divide by std"
   ]
  },
  {
   "cell_type": "code",
   "execution_count": 352,
   "metadata": {},
   "outputs": [
    {
     "data": {
      "text/plain": [
       "<matplotlib.collections.PathCollection at 0x10eab4c18>"
      ]
     },
     "execution_count": 352,
     "metadata": {},
     "output_type": "execute_result"
    },
    {
     "data": {
      "image/png": "[encoded data removed]",
      "text/plain": [
       "<matplotlib.figure.Figure at 0x10ec55278>"
      ]
     },
     "metadata": {},
     "output_type": "display_data"
    }
   ],
   "source": [
    "def normalize(X):\n",
    "    sigma= np.std(X)\n",
    "    mu = np.mean(X)\n",
    "    return (X - mu) / sigma\n",
    "\n",
    "test_X = normalize(test_X)\n",
    "\n",
    "plt.scatter(test_X[0], test_y)\n",
    "plt.scatter(test_X[1], test_y)"
   ]
  },
  {
   "cell_type": "markdown",
   "metadata": {},
   "source": [
    "### hypothesis function"
   ]
  },
  {
   "cell_type": "code",
   "execution_count": 353,
   "metadata": {
    "scrolled": true
   },
   "outputs": [
    {
     "data": {
      "text/plain": [
       "<matplotlib.collections.PathCollection at 0x10e4ff908>"
      ]
     },
     "execution_count": 353,
     "metadata": {},
     "output_type": "execute_result"
    },
    {
     "data": {
      "image/png": "[encoded data removed]",
      "text/plain": [
       "<matplotlib.figure.Figure at 0x10ec51d30>"
      ]
     },
     "metadata": {},
     "output_type": "display_data"
    }
   ],
   "source": [
    "def hypothesis(theta, X):\n",
    "    '''\n",
    "    Define the hypothesis function, which is a simple linear function with n + 1 coefficients,\n",
    "    where n is the number of features\n",
    "    \n",
    "    return the vector y_hat, the predicted values\n",
    "    '''\n",
    "    if not isinstance(X, pd.DataFrame):\n",
    "        X = X.to_frame()\n",
    "        \n",
    "    # make a copy\n",
    "    df = X.copy()\n",
    "    \n",
    "    # add extra column of ones \n",
    "    df.insert(0, 'y-intercept', 1)\n",
    "    \n",
    "    # multiply each row by theta, elementwise\n",
    "    df = df.multiply(theta)\n",
    "    \n",
    "    # add all values per row\n",
    "    predictions = df.sum(axis=1)\n",
    "    \n",
    "    return predictions\n",
    "\n",
    "# predictions vs actual\n",
    "plt.scatter(hypothesis(test_theta, test_X), test_y)"
   ]
  },
  {
   "cell_type": "markdown",
   "metadata": {},
   "source": [
    "### cost function"
   ]
  },
  {
   "cell_type": "code",
   "execution_count": 354,
   "metadata": {},
   "outputs": [
    {
     "data": {
      "text/plain": [
       "171.2064599655476"
      ]
     },
     "execution_count": 354,
     "metadata": {},
     "output_type": "execute_result"
    }
   ],
   "source": [
    "def cost(theta, X, y):\n",
    "    '''\n",
    "    Define the cost function J for a linear function. \n",
    "    This tells you how good your hypothesized thetas estimate the line that best predicts y\n",
    "\n",
    "    calculation:\n",
    "\n",
    "       J = sum of squared differences between hypothesized values h(X) and actual values y,\n",
    "           and the sum is then multiplied by (2 * m )**-1, where m is the sample size\n",
    "    '''\n",
    "    # sample size\n",
    "    m = len(y)\n",
    "    \n",
    "    # diff\n",
    "    difference = hypothesis(theta, X) - y\n",
    "\n",
    "    # square\n",
    "    squared = difference**2\n",
    "    \n",
    "    # sum\n",
    "    summed = squared.sum()\n",
    "    \n",
    "    # coef\n",
    "    return 1 / (2 * m) * summed\n",
    "\n",
    "cost(test_theta, test_X, test_y)"
   ]
  },
  {
   "cell_type": "markdown",
   "metadata": {},
   "source": [
    "### Gradient Descent"
   ]
  },
  {
   "cell_type": "code",
   "execution_count": 355,
   "metadata": {
    "scrolled": true
   },
   "outputs": [
    {
     "data": {
      "text/plain": [
       "(array([23.33284637,  8.96433568,  3.50785561]),\n",
       "                       theta           j\n",
       " 0    [6.833, 10.127, 1.165]  138.884918\n",
       " 1    [8.483, 10.224, 1.302]  112.767164\n",
       " 2    [9.968, 10.299, 1.415]   91.651597\n",
       " 3   [11.305, 10.355, 1.509]   74.573092\n",
       " 4   [12.508, 10.396, 1.589]   60.755153\n",
       " 5    [13.59, 10.425, 1.656]   49.572196\n",
       " 6   [14.565, 10.445, 1.714]   40.519670\n",
       " 7   [15.441, 10.457, 1.764]   33.190284\n",
       " 8   [16.231, 10.462, 1.808]   27.255032\n",
       " 9   [16.941, 10.463, 1.847]   22.447993\n",
       " 10    [17.58, 10.46, 1.882]   18.554144\n",
       " 11  [18.155, 10.454, 1.914]   15.399555\n",
       " 12  [18.673, 10.446, 1.943]   12.843495\n",
       " 13   [19.139, 10.435, 1.97]   10.772070\n",
       " 14  [19.559, 10.423, 1.996]    9.093092\n",
       " 15   [19.936, 10.409, 2.02]    7.731926\n",
       " 16  [20.276, 10.395, 2.043]    6.628146\n",
       " 17  [20.582, 10.379, 2.065]    5.732823\n",
       " 18  [20.857, 10.363, 2.087]    5.006336\n",
       " 19  [21.104, 10.347, 2.108]    4.416597\n",
       " 20   [21.327, 10.33, 2.128]    3.937621\n",
       " 21  [21.528, 10.313, 2.148]    3.548363\n",
       " 22  [21.708, 10.295, 2.168]    3.231778\n",
       " 23  [21.871, 10.278, 2.187]    2.974060\n",
       " 24   [22.017, 10.26, 2.206]    2.764028\n",
       " 25  [22.149, 10.242, 2.226]    2.592626\n",
       " 26  [22.267, 10.224, 2.244]    2.452517\n",
       " 27  [22.374, 10.206, 2.263]    2.337760\n",
       " 28   [22.47, 10.188, 2.282]    2.243543\n",
       " 29   [22.556, 10.17, 2.301]    2.165967\n",
       " ..                      ...         ...\n",
       " 70   [23.323, 9.446, 3.027]    1.607769\n",
       " 71   [23.324, 9.429, 3.044]    1.601970\n",
       " 72   [23.325, 9.412, 3.061]    1.596194\n",
       " 73   [23.326, 9.395, 3.077]    1.590440\n",
       " 74   [23.327, 9.378, 3.094]    1.584708\n",
       " 75   [23.327, 9.361, 3.111]    1.578998\n",
       " 76   [23.328, 9.344, 3.128]    1.573309\n",
       " 77   [23.328, 9.327, 3.145]    1.567641\n",
       " 78    [23.329, 9.31, 3.162]    1.561994\n",
       " 79   [23.329, 9.294, 3.179]    1.556368\n",
       " 80    [23.33, 9.277, 3.195]    1.550763\n",
       " 81     [23.33, 9.26, 3.212]    1.545178\n",
       " 82    [23.33, 9.243, 3.229]    1.539613\n",
       " 83   [23.331, 9.227, 3.245]    1.534069\n",
       " 84    [23.331, 9.21, 3.262]    1.528544\n",
       " 85   [23.331, 9.194, 3.279]    1.523040\n",
       " 86   [23.331, 9.177, 3.295]    1.517556\n",
       " 87    [23.332, 9.16, 3.312]    1.512091\n",
       " 88   [23.332, 9.144, 3.328]    1.506647\n",
       " 89   [23.332, 9.127, 3.345]    1.501221\n",
       " 90   [23.332, 9.111, 3.361]    1.495816\n",
       " 91   [23.332, 9.095, 3.378]    1.490430\n",
       " 92   [23.332, 9.078, 3.394]    1.485063\n",
       " 93    [23.332, 9.062, 3.41]    1.479716\n",
       " 94   [23.333, 9.046, 3.427]    1.474388\n",
       " 95   [23.333, 9.029, 3.443]    1.469079\n",
       " 96   [23.333, 9.013, 3.459]    1.463789\n",
       " 97   [23.333, 8.997, 3.475]    1.458519\n",
       " 98   [23.333, 8.981, 3.492]    1.453267\n",
       " 99   [23.333, 8.964, 3.508]    1.448034\n",
       " \n",
       " [100 rows x 2 columns])"
      ]
     },
     "execution_count": 355,
     "metadata": {},
     "output_type": "execute_result"
    }
   ],
   "source": [
    "def gradientDescent(theta, iterations, alpha, X, y):\n",
    "    '''\n",
    "    Gradient descent is a function that loops through the derivative of the cost function, \n",
    "    and adjusts theta iteratively by the stepsize alpha to reduce the cost with each loop. \n",
    "    Eventually it arrives at a point where the cost cannot further be reduced. \n",
    "    \n",
    "    inputs:\n",
    "        theta: the theta vector at which to start the gradient descent\n",
    "\n",
    "        iterations: number of steps the descent should take\n",
    "\n",
    "        alpha: the size of each step\n",
    "\n",
    "        X: the features of the dataset\n",
    "\n",
    "        y: the target values\n",
    "    \n",
    "    returns: \n",
    "        theta: a vector of tuned coefs\n",
    "        \n",
    "        j_history: a vector of the cost calculated at each step \n",
    "    '''\n",
    "    \n",
    "    m = len(y)\n",
    "    \n",
    "    j_history = pd.DataFrame(columns=[\n",
    "        'theta',\n",
    "        'j'\n",
    "    ]) \n",
    "    \n",
    "    if not isinstance(X, pd.DataFrame):\n",
    "        X = X.to_frame()\n",
    "\n",
    "    # copy X and add a column\n",
    "    X_copy = X.copy()\n",
    "    X_copy.insert(0, 'y-intercept', 1)\n",
    "    \n",
    "    for i in range(iterations):\n",
    "        temp_theta = np.ones(len(theta))\n",
    "        \n",
    "        for t in range(len(theta)):\n",
    "            # partial derivative in terms of theta_t\n",
    "            derivative = (\n",
    "                hypothesis(theta, X)\\\n",
    "                    .subtract(y)\\\n",
    "                    .multiply(X_copy.iloc[:,t])\\\n",
    "                    .sum(axis=0)\\\n",
    "                    * (1/m)\n",
    "            )\n",
    "            \n",
    "            # take a step and calculate new theta_t\n",
    "            temp_theta[t] = theta[t] - alpha * derivative\n",
    "        \n",
    "        \n",
    "        # record cost at this step\n",
    "        j_history = j_history.append({\n",
    "            'theta': np.round_(temp_theta, 3),\n",
    "            'j': cost(temp_theta, X, y)\n",
    "        },\n",
    "            ignore_index=True\n",
    "        )\n",
    "        \n",
    "        # copy new thetas to be used for next step\n",
    "        theta = temp_theta.copy()\n",
    "    \n",
    "    return theta, j_history\n",
    "\n",
    "gradientDescent(test_theta, 100, .1, test_X, test_y)"
   ]
  },
  {
   "cell_type": "markdown",
   "metadata": {},
   "source": [
    "### predicted vs actual"
   ]
  },
  {
   "cell_type": "code",
   "execution_count": 356,
   "metadata": {},
   "outputs": [
    {
     "data": {
      "text/plain": [
       "<matplotlib.collections.PathCollection at 0x10e9c3400>"
      ]
     },
     "execution_count": 356,
     "metadata": {},
     "output_type": "execute_result"
    },
    {
     "data": {
      "image/png": "[encoded data removed]",
      "text/plain": [
       "<matplotlib.figure.Figure at 0x10e4fa208>"
      ]
     },
     "metadata": {},
     "output_type": "display_data"
    }
   ],
   "source": [
    "plt.scatter(\n",
    "    hypothesis(\n",
    "        gradientDescent(test_theta, 100, .1, test_X, test_y)[0], \n",
    "        test_X), \n",
    "    test_y)"
   ]
  },
  {
   "cell_type": "markdown",
   "metadata": {},
   "source": [
    "### demo for single var"
   ]
  },
  {
   "cell_type": "code",
   "execution_count": 357,
   "metadata": {},
   "outputs": [
    {
     "data": {
      "text/plain": [
       "[<matplotlib.lines.Line2D at 0x10ea0fe80>]"
      ]
     },
     "execution_count": 357,
     "metadata": {},
     "output_type": "execute_result"
    },
    {
     "data": {
      "image/png": "[encoded data removed]",
      "text/plain": [
       "<matplotlib.figure.Figure at 0x10ea25be0>"
      ]
     },
     "metadata": {},
     "output_type": "display_data"
    }
   ],
   "source": [
    "# generate data\n",
    "data = pd.DataFrame({\n",
    "    'size': np.random.normal(100, 10, 50)\n",
    "})\n",
    "\n",
    "data['price'] = data['size'].apply(lambda x: x * np.random.randint(80, 120))\n",
    "\n",
    "# normalize x\n",
    "data['size'] = normalize(data['size'])\n",
    "\n",
    "# plot points\n",
    "data.plot.scatter(x='size', y='price')\n",
    "\n",
    "# compute theta\n",
    "theta = gradientDescent([1,1], 100, .1, data['size'], data.price)[0]\n",
    "\n",
    "# plot regression\n",
    "plt.plot(\n",
    "    data['size'],\n",
    "    hypothesis(theta, data['size']),\n",
    "    c='r'\n",
    ")"
   ]
  },
  {
   "cell_type": "markdown",
   "metadata": {},
   "source": [
    "### compare results to statsmodels"
   ]
  },
  {
   "cell_type": "code",
   "execution_count": 358,
   "metadata": {},
   "outputs": [
    {
     "data": {
      "text/plain": [
       "array([22.84307277,  1.04402666, 11.08817573])"
      ]
     },
     "execution_count": 358,
     "metadata": {},
     "output_type": "execute_result"
    }
   ],
   "source": [
    "# my code\n",
    "gradientDescent([22, 1e-10, 10], 1000, .001, test_X, test_y)[0]"
   ]
  },
  {
   "cell_type": "code",
   "execution_count": 359,
   "metadata": {},
   "outputs": [
    {
     "name": "stderr",
     "output_type": "stream",
     "text": [
      "/Users/nico/code/pydata-env/lib/python3.6/site-packages/statsmodels/stats/stattools.py:72: ValueWarning: omni_normtest is not valid with less than 8 observations; 3 samples were given.\n",
      "  \"samples were given.\" % int(n), ValueWarning)\n",
      "/Users/nico/code/pydata-env/lib/python3.6/site-packages/statsmodels/regression/linear_model.py:1392: RuntimeWarning: divide by zero encountered in true_divide\n",
      "  return 1 - np.divide(self.nobs - self.k_constant, self.df_resid) * (1 - self.rsquared)\n",
      "/Users/nico/code/pydata-env/lib/python3.6/site-packages/statsmodels/regression/linear_model.py:1392: RuntimeWarning: invalid value encountered in double_scalars\n",
      "  return 1 - np.divide(self.nobs - self.k_constant, self.df_resid) * (1 - self.rsquared)\n",
      "/Users/nico/code/pydata-env/lib/python3.6/site-packages/statsmodels/regression/linear_model.py:1400: RuntimeWarning: divide by zero encountered in double_scalars\n",
      "  return self.ssr/self.df_resid\n",
      "/Users/nico/code/pydata-env/lib/python3.6/site-packages/statsmodels/regression/linear_model.py:1353: RuntimeWarning: divide by zero encountered in double_scalars\n",
      "  return np.dot(wresid, wresid) / self.df_resid\n"
     ]
    },
    {
     "data": {
      "text/html": [
       "<table class=\"simpletable\">\n",
       "<caption>OLS Regression Results</caption>\n",
       "<tr>\n",
       "  <th>Dep. Variable:</th>            <td>y</td>        <th>  R-squared:         </th> <td>   1.000</td>\n",
       "</tr>\n",
       "<tr>\n",
       "  <th>Model:</th>                   <td>OLS</td>       <th>  Adj. R-squared:    </th> <td>     nan</td>\n",
       "</tr>\n",
       "<tr>\n",
       "  <th>Method:</th>             <td>Least Squares</td>  <th>  F-statistic:       </th> <td>   0.000</td>\n",
       "</tr>\n",
       "<tr>\n",
       "  <th>Date:</th>             <td>Tue, 08 May 2018</td> <th>  Prob (F-statistic):</th>  <td>   nan</td> \n",
       "</tr>\n",
       "<tr>\n",
       "  <th>Time:</th>                 <td>08:23:33</td>     <th>  Log-Likelihood:    </th> <td>  96.870</td>\n",
       "</tr>\n",
       "<tr>\n",
       "  <th>No. Observations:</th>      <td>     3</td>      <th>  AIC:               </th> <td>  -187.7</td>\n",
       "</tr>\n",
       "<tr>\n",
       "  <th>Df Residuals:</th>          <td>     0</td>      <th>  BIC:               </th> <td>  -190.4</td>\n",
       "</tr>\n",
       "<tr>\n",
       "  <th>Df Model:</th>              <td>     2</td>      <th>                     </th>     <td> </td>   \n",
       "</tr>\n",
       "<tr>\n",
       "  <th>Covariance Type:</th>      <td>nonrobust</td>    <th>                     </th>     <td> </td>   \n",
       "</tr>\n",
       "</table>\n",
       "<table class=\"simpletable\">\n",
       "<tr>\n",
       "    <td></td>       <th>coef</th>     <th>std err</th>      <th>t</th>      <th>P>|t|</th>  <th>[0.025</th>    <th>0.975]</th>  \n",
       "</tr>\n",
       "<tr>\n",
       "  <th>const</th> <td>   23.3333</td> <td>      inf</td> <td>        0</td> <td>   nan</td> <td>      nan</td> <td>      nan</td>\n",
       "</tr>\n",
       "<tr>\n",
       "  <th>0</th>     <td> 1.332e-14</td> <td>      inf</td> <td>        0</td> <td>   nan</td> <td>      nan</td> <td>      nan</td>\n",
       "</tr>\n",
       "<tr>\n",
       "  <th>1</th>     <td>   12.4722</td> <td>      inf</td> <td>        0</td> <td>   nan</td> <td>      nan</td> <td>      nan</td>\n",
       "</tr>\n",
       "</table>\n",
       "<table class=\"simpletable\">\n",
       "<tr>\n",
       "  <th>Omnibus:</th>       <td>   nan</td> <th>  Durbin-Watson:     </th> <td>   2.600</td>\n",
       "</tr>\n",
       "<tr>\n",
       "  <th>Prob(Omnibus):</th> <td>   nan</td> <th>  Jarque-Bera (JB):  </th> <td>   0.354</td>\n",
       "</tr>\n",
       "<tr>\n",
       "  <th>Skew:</th>          <td>-0.382</td> <th>  Prob(JB):          </th> <td>   0.838</td>\n",
       "</tr>\n",
       "<tr>\n",
       "  <th>Kurtosis:</th>      <td> 1.500</td> <th>  Cond. No.          </th> <td>    10.5</td>\n",
       "</tr>\n",
       "</table>"
      ],
      "text/plain": [
       "<class 'statsmodels.iolib.summary.Summary'>\n",
       "\"\"\"\n",
       "                            OLS Regression Results                            \n",
       "==============================================================================\n",
       "Dep. Variable:                      y   R-squared:                       1.000\n",
       "Model:                            OLS   Adj. R-squared:                    nan\n",
       "Method:                 Least Squares   F-statistic:                     0.000\n",
       "Date:                Tue, 08 May 2018   Prob (F-statistic):                nan\n",
       "Time:                        08:23:33   Log-Likelihood:                 96.870\n",
       "No. Observations:                   3   AIC:                            -187.7\n",
       "Df Residuals:                       0   BIC:                            -190.4\n",
       "Df Model:                           2                                         \n",
       "Covariance Type:            nonrobust                                         \n",
       "==============================================================================\n",
       "                 coef    std err          t      P>|t|      [0.025      0.975]\n",
       "------------------------------------------------------------------------------\n",
       "const         23.3333        inf          0        nan         nan         nan\n",
       "0           1.332e-14        inf          0        nan         nan         nan\n",
       "1             12.4722        inf          0        nan         nan         nan\n",
       "==============================================================================\n",
       "Omnibus:                          nan   Durbin-Watson:                   2.600\n",
       "Prob(Omnibus):                    nan   Jarque-Bera (JB):                0.354\n",
       "Skew:                          -0.382   Prob(JB):                        0.838\n",
       "Kurtosis:                       1.500   Cond. No.                         10.5\n",
       "==============================================================================\n",
       "\n",
       "Warnings:\n",
       "[1] Standard Errors assume that the covariance matrix of the errors is correctly specified.\n",
       "\"\"\""
      ]
     },
     "execution_count": 359,
     "metadata": {},
     "output_type": "execute_result"
    }
   ],
   "source": [
    "# https://towardsdatascience.com/simple-and-multiple-linear-regression-in-python-c928425168f9\n",
    "\n",
    "import statsmodels.api as sm\n",
    "\n",
    "# Note the difference in argument order\n",
    "\n",
    "model = sm.OLS(\n",
    "    test_y, \n",
    "    sm.add_constant(test_X)\n",
    ").fit()\n",
    "\n",
    "# predictions = model.predict(X) # make the predictions by the model\n",
    "\n",
    "# Print out the statistics\n",
    "model.summary()"
   ]
  },
  {
   "cell_type": "code",
   "execution_count": 360,
   "metadata": {},
   "outputs": [
    {
     "data": {
      "text/plain": [
       "7.956429836395348e-06"
      ]
     },
     "execution_count": 360,
     "metadata": {},
     "output_type": "execute_result"
    }
   ],
   "source": [
    "# what is the cost of the statsmodels function?\n",
    "cost([23.33, 1.3e-14, 12.47], test_X, test_y)"
   ]
  },
  {
   "cell_type": "markdown",
   "metadata": {},
   "source": [
    "---\n",
    "\n",
    "---\n",
    "\n",
    "## apply to the data from the exercise"
   ]
  },
  {
   "cell_type": "code",
   "execution_count": 361,
   "metadata": {},
   "outputs": [
    {
     "data": {
      "text/html": [
       "<div>\n",
       "<style scoped>\n",
       "    .dataframe tbody tr th:only-of-type {\n",
       "        vertical-align: middle;\n",
       "    }\n",
       "\n",
       "    .dataframe tbody tr th {\n",
       "        vertical-align: top;\n",
       "    }\n",
       "\n",
       "    .dataframe thead th {\n",
       "        text-align: right;\n",
       "    }\n",
       "</style>\n",
       "<table border=\"1\" class=\"dataframe\">\n",
       "  <thead>\n",
       "    <tr style=\"text-align: right;\">\n",
       "      <th></th>\n",
       "      <th>space</th>\n",
       "      <th>rooms</th>\n",
       "      <th>prices</th>\n",
       "    </tr>\n",
       "  </thead>\n",
       "  <tbody>\n",
       "    <tr>\n",
       "      <th>count</th>\n",
       "      <td>47.000000</td>\n",
       "      <td>47.000000</td>\n",
       "      <td>47.000000</td>\n",
       "    </tr>\n",
       "    <tr>\n",
       "      <th>mean</th>\n",
       "      <td>2000.680851</td>\n",
       "      <td>3.170213</td>\n",
       "      <td>340412.659574</td>\n",
       "    </tr>\n",
       "    <tr>\n",
       "      <th>std</th>\n",
       "      <td>794.702354</td>\n",
       "      <td>0.760982</td>\n",
       "      <td>125039.899586</td>\n",
       "    </tr>\n",
       "    <tr>\n",
       "      <th>min</th>\n",
       "      <td>852.000000</td>\n",
       "      <td>1.000000</td>\n",
       "      <td>169900.000000</td>\n",
       "    </tr>\n",
       "    <tr>\n",
       "      <th>25%</th>\n",
       "      <td>1432.000000</td>\n",
       "      <td>3.000000</td>\n",
       "      <td>249900.000000</td>\n",
       "    </tr>\n",
       "    <tr>\n",
       "      <th>50%</th>\n",
       "      <td>1888.000000</td>\n",
       "      <td>3.000000</td>\n",
       "      <td>299900.000000</td>\n",
       "    </tr>\n",
       "    <tr>\n",
       "      <th>75%</th>\n",
       "      <td>2269.000000</td>\n",
       "      <td>4.000000</td>\n",
       "      <td>384450.000000</td>\n",
       "    </tr>\n",
       "    <tr>\n",
       "      <th>max</th>\n",
       "      <td>4478.000000</td>\n",
       "      <td>5.000000</td>\n",
       "      <td>699900.000000</td>\n",
       "    </tr>\n",
       "  </tbody>\n",
       "</table>\n",
       "</div>"
      ],
      "text/plain": [
       "             space      rooms         prices\n",
       "count    47.000000  47.000000      47.000000\n",
       "mean   2000.680851   3.170213  340412.659574\n",
       "std     794.702354   0.760982  125039.899586\n",
       "min     852.000000   1.000000  169900.000000\n",
       "25%    1432.000000   3.000000  249900.000000\n",
       "50%    1888.000000   3.000000  299900.000000\n",
       "75%    2269.000000   4.000000  384450.000000\n",
       "max    4478.000000   5.000000  699900.000000"
      ]
     },
     "execution_count": 361,
     "metadata": {},
     "output_type": "execute_result"
    }
   ],
   "source": [
    "houses = pd.read_csv('ex1data2.txt', names=['space', 'rooms', 'prices'])\n",
    "houses.describe()"
   ]
  },
  {
   "cell_type": "code",
   "execution_count": 392,
   "metadata": {},
   "outputs": [
    {
     "data": {
      "text/plain": [
       "<matplotlib.collections.PathCollection at 0x10f40eac8>"
      ]
     },
     "execution_count": 392,
     "metadata": {},
     "output_type": "execute_result"
    },
    {
     "data": {
      "image/png": "[encoded data removed]",
      "text/plain": [
       "<matplotlib.figure.Figure at 0x10f3db6a0>"
      ]
     },
     "metadata": {},
     "output_type": "display_data"
    }
   ],
   "source": [
    "X = houses[['space', 'rooms']]\n",
    "y = houses.prices\n",
    "\n",
    "# normalize\n",
    "X = normalize(X)\n",
    "\n",
    "# apply gradient descent\n",
    "# compare predicted to actual\n",
    "plt.scatter(\n",
    "    hypothesis(\n",
    "        gradientDescent([1,1,1], 1000, .01, X, y)[0], \n",
    "        X), \n",
    "    y\n",
    ")"
   ]
  },
  {
   "cell_type": "markdown",
   "metadata": {},
   "source": [
    "### try different learning rates"
   ]
  },
  {
   "cell_type": "code",
   "execution_count": 393,
   "metadata": {},
   "outputs": [
    {
     "data": {
      "text/plain": [
       "Text(0,0.5,'cost')"
      ]
     },
     "execution_count": 393,
     "metadata": {},
     "output_type": "execute_result"
    },
    {
     "data": {
      "image/png": "[encoded data removed]",
      "text/plain": [
       "<matplotlib.figure.Figure at 0x10f443588>"
      ]
     },
     "metadata": {},
     "output_type": "display_data"
    }
   ],
   "source": [
    "alphas = [\n",
    "    1,\n",
    "    .3,\n",
    "    .1,\n",
    "    .03,\n",
    "    .01,\n",
    "    .003\n",
    "]\n",
    "\n",
    "iterations = 100\n",
    "\n",
    "for a in alphas:\n",
    "    plt.plot(\n",
    "        np.linspace(1, iterations, 100),\n",
    "        gradientDescent([22, 1e-10, 10], iterations, a, test_X, test_y)[1]['j'],\n",
    "        label=str(a)\n",
    "    )\n",
    "\n",
    "plt.legend()\n",
    "plt.xlabel('iterations')\n",
    "plt.ylabel('cost')"
   ]
  },
  {
   "cell_type": "markdown",
   "metadata": {},
   "source": [
    "it looks like the best learning rate is 0.3"
   ]
  },
  {
   "cell_type": "markdown",
   "metadata": {},
   "source": [
    "### predict the price of a house\n",
    "1650 square feet\n",
    "\n",
    "3 bedrooms"
   ]
  },
  {
   "cell_type": "code",
   "execution_count": 394,
   "metadata": {},
   "outputs": [
    {
     "data": {
      "text/plain": [
       "array([340412.65957447, 109447.79646964,  -6578.35485416])"
      ]
     },
     "execution_count": 394,
     "metadata": {},
     "output_type": "execute_result"
    }
   ],
   "source": [
    "theta = gradientDescent([1,1,1], 1000, .3, X, y)[0]\n",
    "theta"
   ]
  },
  {
   "cell_type": "code",
   "execution_count": 371,
   "metadata": {},
   "outputs": [
    {
     "data": {
      "text/plain": [
       "0    340412.659574\n",
       "dtype: float64"
      ]
     },
     "execution_count": 371,
     "metadata": {},
     "output_type": "execute_result"
    }
   ],
   "source": [
    "data = normalize(pd.DataFrame({\n",
    "        0:[1650], \n",
    "        1:[3]\n",
    "    }))\n",
    "\n",
    "hypothesis(theta,data)"
   ]
  },
  {
   "cell_type": "markdown",
   "metadata": {},
   "source": [
    "### implement the normal equation"
   ]
  },
  {
   "cell_type": "code",
   "execution_count": 385,
   "metadata": {},
   "outputs": [
    {
     "data": {
      "text/plain": [
       "array([[ 4.70000000e+01, -4.44089210e-16,  1.16573418e-14],\n",
       "       [-4.44089210e-16,  4.70000000e+01,  2.63184586e+01],\n",
       "       [ 1.16573418e-14,  2.63184586e+01,  4.70000000e+01]])"
      ]
     },
     "execution_count": 385,
     "metadata": {},
     "output_type": "execute_result"
    }
   ],
   "source": [
    "X['y-intercept'] = 1\n",
    "\n",
    "X = X.reindex(columns=[\n",
    "    'y-intercept', \n",
    "    'space', \n",
    "    'rooms'\n",
    "])\n",
    "\n",
    "# multiply the matrix by its transposition \n",
    "X.T.dot(X).values"
   ]
  },
  {
   "cell_type": "code",
   "execution_count": 386,
   "metadata": {},
   "outputs": [
    {
     "data": {
      "text/plain": [
       "array([[ 2.12765957e-02,  4.59779739e-18, -7.85181890e-18],\n",
       "       [ 4.59779739e-18,  3.09957128e-02, -1.73565826e-02],\n",
       "       [-7.85181890e-18, -1.73565826e-02,  3.09957128e-02]])"
      ]
     },
     "execution_count": 386,
     "metadata": {},
     "output_type": "execute_result"
    }
   ],
   "source": [
    "# take the inverse\n",
    "np.linalg.inv(X.T.dot(X).values)"
   ]
  },
  {
   "cell_type": "code",
   "execution_count": 389,
   "metadata": {},
   "outputs": [
    {
     "data": {
      "text/plain": [
       "array([[ 0.0212766 ,  0.0212766 ,  0.0212766 ,  0.0212766 ,  0.0212766 ,\n",
       "         0.0212766 ,  0.0212766 ,  0.0212766 ,  0.0212766 ,  0.0212766 ,\n",
       "         0.0212766 ,  0.0212766 ,  0.0212766 ,  0.0212766 ,  0.0212766 ,\n",
       "         0.0212766 ,  0.0212766 ,  0.0212766 ,  0.0212766 ,  0.0212766 ,\n",
       "         0.0212766 ,  0.0212766 ,  0.0212766 ,  0.0212766 ,  0.0212766 ,\n",
       "         0.0212766 ,  0.0212766 ,  0.0212766 ,  0.0212766 ,  0.0212766 ,\n",
       "         0.0212766 ,  0.0212766 ,  0.0212766 ,  0.0212766 ,  0.0212766 ,\n",
       "         0.0212766 ,  0.0212766 ,  0.0212766 ,  0.0212766 ,  0.0212766 ,\n",
       "         0.0212766 ,  0.0212766 ,  0.0212766 ,  0.0212766 ,  0.0212766 ,\n",
       "         0.0212766 ,  0.0212766 ],\n",
       "       [ 0.00799752, -0.01187247,  0.0196672 ,  0.00392813,  0.02026723,\n",
       "        -0.01974873, -0.01447449, -0.01869292, -0.02054588, -0.01605147,\n",
       "        -0.02152283,  0.00389737, -0.00043934,  0.05548204, -0.02496143,\n",
       "        -0.00732998,  0.00014337, -0.02622302,  0.00485222,  0.02148939,\n",
       "        -0.00528856,  0.02253654, -0.01171477, -0.02065549,  0.07840983,\n",
       "        -0.03158476, -0.01747076,  0.0246347 ,  0.01178228,  0.02901083,\n",
       "         0.02060473,  0.01058223, -0.01758037,  0.04872312, -0.0266086 ,\n",
       "        -0.01829868, -0.02610474, -0.01395331,  0.0681681 , -0.01277057,\n",
       "         0.01370543,  0.01328042,  0.00319638, -0.0276423 , -0.01830734,\n",
       "        -0.0249922 , -0.02752403],\n",
       "       [-0.00928885,  0.0018377 , -0.01582348, -0.03527179,  0.01210219,\n",
       "         0.03450981,  0.00329474,  0.00565693,  0.00669452,  0.0041778 ,\n",
       "         0.03550325, -0.00699289, -0.00456448,  0.02064472,  0.00916709,\n",
       "         0.02755572, -0.03315245,  0.00987353,  0.02073409,  0.01141782,\n",
       "        -0.00184908, -0.04569189,  0.00174939,  0.03501757, -0.04871743,\n",
       "         0.01287593,  0.00497256, -0.01860512, -0.01140819, -0.02105561,\n",
       "        -0.04461014, -0.06725954,  0.03329561, -0.03209385,  0.03835112,\n",
       "         0.00543616,  0.0098073 ,  0.03126457, -0.01472073,  0.03060228,\n",
       "        -0.04074676, -0.0122471 ,  0.0216613 ,  0.01066829, -0.02282066,\n",
       "         0.03744598,  0.01060206]])"
      ]
     },
     "execution_count": 389,
     "metadata": {},
     "output_type": "execute_result"
    }
   ],
   "source": [
    "# multiplied by its. inverse\n",
    "np.linalg.inv(X.T.dot(X).values).dot(X.T)"
   ]
  },
  {
   "cell_type": "code",
   "execution_count": 390,
   "metadata": {},
   "outputs": [
    {
     "data": {
      "text/plain": [
       "array([340412.65957447, 109447.79646964,  -6578.35485416])"
      ]
     },
     "execution_count": 390,
     "metadata": {},
     "output_type": "execute_result"
    }
   ],
   "source": [
    "# multiplied by the target vector\n",
    "np.linalg.inv(X.T.dot(X).values).dot(X.T).dot(y)"
   ]
  }
 ],
 "metadata": {
  "kernelspec": {
   "display_name": "Python 3",
   "language": "python",
   "name": "python3"
  },
  "language_info": {
   "codemirror_mode": {
    "name": "ipython",
    "version": 3
   },
   "file_extension": ".py",
   "mimetype": "text/x-python",
   "name": "python",
   "nbconvert_exporter": "python",
   "pygments_lexer": "ipython3",
   "version": "3.6.5"
  }
 },
 "nbformat": 4,
 "nbformat_minor": 2
}
