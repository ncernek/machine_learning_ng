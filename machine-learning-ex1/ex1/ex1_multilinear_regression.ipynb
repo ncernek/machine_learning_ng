{
 "cells": [
  {
   "cell_type": "code",
   "execution_count": 167,
   "metadata": {},
   "outputs": [],
   "source": [
    "import pandas as pd\n",
    "import numpy as np\n",
    "import matplotlib.pyplot as plt\n",
    "import seaborn as sns\n",
    "%matplotlib inline"
   ]
  },
  {
   "cell_type": "markdown",
   "metadata": {},
   "source": [
    "### set up test case"
   ]
  },
  {
   "cell_type": "code",
   "execution_count": 310,
   "metadata": {},
   "outputs": [
    {
     "data": {
      "text/plain": [
       "[<matplotlib.lines.Line2D at 0x10ce934e0>]"
      ]
     },
     "execution_count": 310,
     "metadata": {},
     "output_type": "execute_result"
    },
    {
     "data": {
      "image/png": "[encoded data removed]",
      "text/plain": [
       "<matplotlib.figure.Figure at 0x10d273668>"
      ]
     },
     "metadata": {},
     "output_type": "display_data"
    }
   ],
   "source": [
    "# two random features\n",
    "test_X = pd.DataFrame([\n",
    "    [1, 2, 3,],\n",
    "    [10, 15, 25,]\n",
    "]).transpose()\n",
    "\n",
    "test_theta = [5, 10, 1]\n",
    "\n",
    "test_y = pd.Series([10, 20, 40])\n",
    "\n",
    "plt.plot(test_X[0], test_y)\n",
    "plt.plot(test_X[1], test_y)"
   ]
  },
  {
   "cell_type": "markdown",
   "metadata": {},
   "source": [
    "### feature normalization\n",
    "subtract by mean and divide by std"
   ]
  },
  {
   "cell_type": "code",
   "execution_count": 311,
   "metadata": {},
   "outputs": [
    {
     "data": {
      "text/plain": [
       "<matplotlib.collections.PathCollection at 0x10d3dff60>"
      ]
     },
     "execution_count": 311,
     "metadata": {},
     "output_type": "execute_result"
    },
    {
     "data": {
      "image/png": "[encoded data removed]",
      "text/plain": [
       "<matplotlib.figure.Figure at 0x10d2f4160>"
      ]
     },
     "metadata": {},
     "output_type": "display_data"
    }
   ],
   "source": [
    "def normalize(X):\n",
    "    sigma= np.std(X)\n",
    "    mu = np.mean(X)\n",
    "    return (X - mu) / sigma\n",
    "\n",
    "test_X = normalize(test_X)\n",
    "\n",
    "plt.scatter(test_X[0], test_y)\n",
    "plt.scatter(test_X[1], test_y)"
   ]
  },
  {
   "cell_type": "markdown",
   "metadata": {},
   "source": [
    "# Gradient Descent"
   ]
  },
  {
   "cell_type": "markdown",
   "metadata": {},
   "source": [
    "### hypothesis function"
   ]
  },
  {
   "cell_type": "code",
   "execution_count": 312,
   "metadata": {
    "scrolled": true
   },
   "outputs": [
    {
     "data": {
      "text/plain": [
       "<matplotlib.collections.PathCollection at 0x10d4fca20>"
      ]
     },
     "execution_count": 312,
     "metadata": {},
     "output_type": "execute_result"
    },
    {
     "data": {
      "image/png": "[encoded data removed]",
      "text/plain": [
       "<matplotlib.figure.Figure at 0x10d2e9b00>"
      ]
     },
     "metadata": {},
     "output_type": "display_data"
    }
   ],
   "source": [
    "def hypothesis(theta, X):\n",
    "    '''\n",
    "    Define the hypothesis function, which is a simple linear function with n + 1 coefficients,\n",
    "    where n is the number of features\n",
    "    \n",
    "    return the vector y_hat, the predicted values\n",
    "    '''\n",
    "    if not isinstance(X, pd.DataFrame):\n",
    "        X = X.to_frame()\n",
    "        \n",
    "    # make a copy\n",
    "    df = X.copy()\n",
    "    \n",
    "    # add extra column of ones \n",
    "    df.insert(0, 'y-intercept', 1)\n",
    "    \n",
    "    # multiply each row by theta, elementwise\n",
    "    df = df.multiply(theta)\n",
    "    \n",
    "    # add all values per row\n",
    "    predictions = df.sum(axis=1)\n",
    "    \n",
    "    return predictions\n",
    "\n",
    "# predictions vs actual\n",
    "plt.scatter(hypothesis(test_theta, test_X), test_y)"
   ]
  },
  {
   "cell_type": "markdown",
   "metadata": {},
   "source": [
    "### cost function"
   ]
  },
  {
   "cell_type": "code",
   "execution_count": 313,
   "metadata": {},
   "outputs": [
    {
     "data": {
      "text/plain": [
       "171.2064599655476"
      ]
     },
     "execution_count": 313,
     "metadata": {},
     "output_type": "execute_result"
    }
   ],
   "source": [
    "def cost(theta, X, y):\n",
    "    '''\n",
    "    Define the cost function J for a linear function. \n",
    "    This tells you how good your hypothesized thetas estimate the line that best predicts y\n",
    "\n",
    "    calculation:\n",
    "\n",
    "       J = sum of squared differences between hypothesized values h(X) and actual values y,\n",
    "           and the sum is then multiplied by (2 * m )**-1, where m is the sample size\n",
    "    '''\n",
    "    # sample size\n",
    "    m = len(y)\n",
    "    \n",
    "    # diff\n",
    "    difference = hypothesis(theta, X) - y\n",
    "\n",
    "    # square\n",
    "    squared = difference**2\n",
    "    \n",
    "    # sum\n",
    "    summed = squared.sum()\n",
    "    \n",
    "    # coef\n",
    "    return 1 / (2 * m) * summed\n",
    "\n",
    "cost(test_theta, test_X, test_y)"
   ]
  },
  {
   "cell_type": "markdown",
   "metadata": {},
   "source": [
    "### Gradient Descent"
   ]
  },
  {
   "cell_type": "code",
   "execution_count": 321,
   "metadata": {
    "scrolled": true
   },
   "outputs": [
    {
     "data": {
      "text/plain": [
       "(array([23.33284637,  8.96433568,  3.50785561]),\n",
       " [(array([ 6.833, 10.127,  1.165]), 138.8849179839605),\n",
       "  (array([ 8.483, 10.224,  1.302]), 112.76716438260496),\n",
       "  (array([ 9.968, 10.299,  1.415]), 91.6515971908715),\n",
       "  (array([11.305, 10.355,  1.509]), 74.57309212481806),\n",
       "  (array([12.508, 10.396,  1.589]), 60.755153019074626),\n",
       "  (array([13.59 , 10.425,  1.656]), 49.57219602270812),\n",
       "  (array([14.565, 10.445,  1.714]), 40.51966990791911),\n",
       "  (array([15.441, 10.457,  1.764]), 33.190284324698375),\n",
       "  (array([16.231, 10.462,  1.808]), 27.25503164551054),\n",
       "  (array([16.941, 10.463,  1.847]), 22.447992712274377),\n",
       "  (array([17.58 , 10.46 ,  1.882]), 18.554143959125916),\n",
       "  (array([18.155, 10.454,  1.914]), 15.39955477158585),\n",
       "  (array([18.673, 10.446,  1.943]), 12.843494657318745),\n",
       "  (array([19.139, 10.435,  1.97 ]), 10.772070469294942),\n",
       "  (array([19.559, 10.423,  1.996]), 9.093092109841963),\n",
       "  (array([19.936, 10.409,  2.02 ]), 7.731926321469956),\n",
       "  (array([20.276, 10.395,  2.043]), 6.628146338871194),\n",
       "  (array([20.582, 10.379,  2.065]), 5.732823302481611),\n",
       "  (array([20.857, 10.363,  2.087]), 5.006335643544193),\n",
       "  (array([21.104, 10.347,  2.108]), 4.4165968333011865),\n",
       "  (array([21.327, 10.33 ,  2.128]), 3.9376212403038284),\n",
       "  (array([21.528, 10.313,  2.148]), 3.548363362314565),\n",
       "  (array([21.708, 10.295,  2.168]), 3.2317781746975673),\n",
       "  (array([21.871, 10.278,  2.187]), 2.9740603794133187),\n",
       "  (array([22.017, 10.26 ,  2.206]), 2.7640284325141793),\n",
       "  (array([22.149, 10.242,  2.226]), 2.5926257580142673),\n",
       "  (array([22.267, 10.224,  2.244]), 2.4525168285849572),\n",
       "  (array([22.374, 10.206,  2.263]), 2.3377600535741765),\n",
       "  (array([22.47 , 10.188,  2.282]), 2.243542858582746),\n",
       "  (array([22.556, 10.17 ,  2.301]), 2.165967125817013),\n",
       "  (array([22.634, 10.152,  2.319]), 2.1018754174225007),\n",
       "  (array([22.704, 10.133,  2.338]), 2.048710227086781),\n",
       "  (array([22.767, 10.115,  2.356]), 2.0043999807184187),\n",
       "  (array([22.823, 10.097,  2.374]), 1.9672667014201721),\n",
       "  (array([22.874, 10.079,  2.393]), 1.935951220960999),\n",
       "  (array([22.92 , 10.061,  2.411]), 1.9093526028963057),\n",
       "  (array([22.962, 10.043,  2.429]), 1.886579076470638),\n",
       "  (array([22.999, 10.025,  2.447]), 1.8669082938341834),\n",
       "  (array([23.032, 10.007,  2.465]), 1.8497551388737397),\n",
       "  (array([23.062,  9.989,  2.483]), 1.834645652677936),\n",
       "  (array([23.089,  9.971,  2.501]), 1.82119591336454),\n",
       "  (array([23.114,  9.953,  2.519]), 1.8090949288695433),\n",
       "  (array([23.136,  9.935,  2.537]), 1.7980907801890251),\n",
       "  (array([23.156,  9.917,  2.555]), 1.7879793974582485),\n",
       "  (array([23.173,  9.899,  2.573]), 1.778595468609801),\n",
       "  (array([23.189,  9.881,  2.591]), 1.769805075408523),\n",
       "  (array([23.204,  9.864,  2.609]), 1.7614997286538083),\n",
       "  (array([23.217,  9.846,  2.626]), 1.753591536702356),\n",
       "  (array([23.228,  9.828,  2.644]), 1.7460092919772399),\n",
       "  (array([23.239,  9.81 ,  2.662]), 1.738695301043859),\n",
       "  (array([23.248,  9.793,  2.68 ]), 1.7316028169736521),\n",
       "  (array([23.257,  9.775,  2.697]), 1.7246939595600792),\n",
       "  (array([23.264,  9.757,  2.715]), 1.7179380306943586),\n",
       "  (array([23.271,  9.74 ,  2.732]), 1.7113101498202767),\n",
       "  (array([23.278,  9.722,  2.75 ]), 1.7047901486527683),\n",
       "  (array([23.283,  9.705,  2.767]), 1.6983616759000775),\n",
       "  (array([23.288,  9.687,  2.785]), 1.6920114720886634),\n",
       "  (array([23.293,  9.67 ,  2.802]), 1.68572878217128),\n",
       "  (array([23.297,  9.652,  2.82 ]), 1.67950487973942),\n",
       "  (array([23.3  ,  9.635,  2.837]), 1.6733326816352352),\n",
       "  (array([23.304,  9.618,  2.855]), 1.6672064357870187),\n",
       "  (array([23.307,  9.6  ,  2.872]), 1.6611214683558002),\n",
       "  (array([23.309,  9.583,  2.889]), 1.65507397892388),\n",
       "  (array([23.312,  9.566,  2.907]), 1.6490608745973843),\n",
       "  (array([23.314,  9.548,  2.924]), 1.6430796356291246),\n",
       "  (array([23.316,  9.531,  2.941]), 1.6371282065729558),\n",
       "  (array([23.318,  9.514,  2.958]), 1.6312049081186046),\n",
       "  (array([23.319,  9.497,  2.975]), 1.625308365677684),\n",
       "  (array([23.321,  9.48 ,  2.992]), 1.6194374515382135),\n",
       "  (array([23.322,  9.463,  3.009]), 1.613591238009545),\n",
       "  (array([23.323,  9.446,  3.027]), 1.60776895946964),\n",
       "  (array([23.324,  9.429,  3.044]), 1.6019699816230872),\n",
       "  (array([23.325,  9.412,  3.061]), 1.5961937765999945),\n",
       "  (array([23.326,  9.395,  3.077]), 1.5904399027858611),\n",
       "  (array([23.327,  9.378,  3.094]), 1.5847079884836153),\n",
       "  (array([23.327,  9.361,  3.111]), 1.5789977186796658),\n",
       "  (array([23.328,  9.344,  3.128]), 1.5733088243242266),\n",
       "  (array([23.328,  9.327,  3.145]), 1.567641073648228),\n",
       "  (array([23.329,  9.31 ,  3.162]), 1.5619942651297616),\n",
       "  (array([23.329,  9.294,  3.179]), 1.556368221796819),\n",
       "  (array([23.33 ,  9.277,  3.195]), 1.550762786612251),\n",
       "  (array([23.33 ,  9.26 ,  3.212]), 1.5451778187354392),\n",
       "  (array([23.33 ,  9.243,  3.229]), 1.5396131904940846),\n",
       "  (array([23.331,  9.227,  3.245]), 1.5340687849311512),\n",
       "  (array([23.331,  9.21 ,  3.262]), 1.5285444938177317),\n",
       "  (array([23.331,  9.194,  3.279]), 1.523040216043289),\n",
       "  (array([23.331,  9.177,  3.295]), 1.517555856311576),\n",
       "  (array([23.332,  9.16 ,  3.312]), 1.5120913240841691),\n",
       "  (array([23.332,  9.144,  3.328]), 1.5066465327245127),\n",
       "  (array([23.332,  9.127,  3.345]), 1.5012213988045073),\n",
       "  (array([23.332,  9.111,  3.361]), 1.4958158415425615),\n",
       "  (array([23.332,  9.095,  3.378]), 1.490429782348349),\n",
       "  (array([23.332,  9.078,  3.394]), 1.4850631444538076),\n",
       "  (array([23.332,  9.062,  3.41 ]), 1.4797158526141412),\n",
       "  (array([23.333,  9.046,  3.427]), 1.4743878328654196),\n",
       "  (array([23.333,  9.029,  3.443]), 1.4690790123280766),\n",
       "  (array([23.333,  9.013,  3.459]), 1.4637893190475806),\n",
       "  (array([23.333,  8.997,  3.475]), 1.4585186818652076),\n",
       "  (array([23.333,  8.981,  3.492]), 1.4532670303131987),\n",
       "  (array([23.333,  8.964,  3.508]), 1.4480342945296645)])"
      ]
     },
     "execution_count": 321,
     "metadata": {},
     "output_type": "execute_result"
    }
   ],
   "source": [
    "def gradientDescent(theta, iterations, alpha, X, y):\n",
    "    '''\n",
    "    Gradient descent is a function that loops through the derivative of the cost function, \n",
    "    and adjusts theta iteratively by the stepsize alpha to reduce the cost with each loop. \n",
    "    Eventually it arrives at a point where the cost cannot further be reduced. \n",
    "    \n",
    "    inputs:\n",
    "        theta: the theta vector at which to start the gradient descent\n",
    "\n",
    "        iterations: number of steps the descent should take\n",
    "\n",
    "        alpha: the size of each step\n",
    "\n",
    "        X: the features of the dataset\n",
    "\n",
    "        y: the target values\n",
    "    \n",
    "    returns: \n",
    "        theta: a vector of tuned coefs\n",
    "        \n",
    "        j_history: a vector of the cost calculated at each step \n",
    "    '''\n",
    "    \n",
    "    m = len(y)\n",
    "    \n",
    "    j_history = [] \n",
    "    \n",
    "    if not isinstance(X, pd.DataFrame):\n",
    "        X = X.to_frame()\n",
    "\n",
    "    # copy X and add a column\n",
    "    X_copy = X.copy()\n",
    "    X_copy.insert(0, 'y-intercept', 1)\n",
    "    \n",
    "    for i in range(iterations):\n",
    "        temp_theta = np.ones(len(theta))\n",
    "        \n",
    "        for t in range(len(theta)):\n",
    "            # partial derivative in terms of theta_t\n",
    "            derivative = (\n",
    "                hypothesis(theta, X)\\\n",
    "                    .subtract(y)\\\n",
    "                    .multiply(X_copy.iloc[:,t])\\\n",
    "                    .sum(axis=0)\\\n",
    "                    * (1/m)\n",
    "            )\n",
    "            \n",
    "            # take a step and calculate new theta_t\n",
    "            temp_theta[t] = theta[t] - alpha * derivative\n",
    "        \n",
    "        \n",
    "        # record cost at this step\n",
    "        j_history.append((np.round_(temp_theta, 3), cost(temp_theta, X, y),))\n",
    "        \n",
    "        # copy new thetas to be used for next step\n",
    "        theta = temp_theta.copy()\n",
    "    \n",
    "    return theta, j_history\n",
    "\n",
    "gradientDescent(test_theta, 100, .1, test_X, test_y)"
   ]
  },
  {
   "cell_type": "markdown",
   "metadata": {},
   "source": [
    "### predicted vs actual"
   ]
  },
  {
   "cell_type": "code",
   "execution_count": 322,
   "metadata": {},
   "outputs": [
    {
     "data": {
      "text/plain": [
       "<matplotlib.collections.PathCollection at 0x10d9e1e80>"
      ]
     },
     "execution_count": 322,
     "metadata": {},
     "output_type": "execute_result"
    },
    {
     "data": {
      "image/png": "[encoded data removed]",
      "text/plain": [
       "<matplotlib.figure.Figure at 0x10d7b3c88>"
      ]
     },
     "metadata": {},
     "output_type": "display_data"
    }
   ],
   "source": [
    "plt.scatter(\n",
    "    hypothesis(\n",
    "        gradientDescent(test_theta, 100, .1, test_X, test_y)[0], \n",
    "        test_X), \n",
    "    test_y)"
   ]
  },
  {
   "cell_type": "markdown",
   "metadata": {},
   "source": [
    "### demo for single var"
   ]
  },
  {
   "cell_type": "code",
   "execution_count": 319,
   "metadata": {},
   "outputs": [
    {
     "data": {
      "text/plain": [
       "[<matplotlib.lines.Line2D at 0x10d8581d0>]"
      ]
     },
     "execution_count": 319,
     "metadata": {},
     "output_type": "execute_result"
    },
    {
     "data": {
      "image/png": "[encoded data removed]",
      "text/plain": [
       "<matplotlib.figure.Figure at 0x10d6e53c8>"
      ]
     },
     "metadata": {},
     "output_type": "display_data"
    }
   ],
   "source": [
    "# generate data\n",
    "data = pd.DataFrame({\n",
    "    'size': np.random.normal(100, 10, 50)\n",
    "})\n",
    "\n",
    "data['price'] = data['size'].apply(lambda x: x * np.random.randint(80, 120))\n",
    "\n",
    "# normalize x\n",
    "data['size'] = normalize(data['size'])\n",
    "\n",
    "# plot points\n",
    "data.plot.scatter(x='size', y='price')\n",
    "\n",
    "# compute theta\n",
    "theta = gradientDescent([1,1], 100, .1, data['size'], data.price)[0]\n",
    "\n",
    "# plot regression\n",
    "plt.plot(\n",
    "    data['size'],\n",
    "    hypothesis(theta, data['size']),\n",
    "    c='r'\n",
    ")"
   ]
  },
  {
   "cell_type": "markdown",
   "metadata": {},
   "source": [
    "### compare results to statsmodels"
   ]
  },
  {
   "cell_type": "code",
   "execution_count": 336,
   "metadata": {},
   "outputs": [
    {
     "data": {
      "text/plain": [
       "array([22.84307277,  1.04402666, 11.08817573])"
      ]
     },
     "execution_count": 336,
     "metadata": {},
     "output_type": "execute_result"
    }
   ],
   "source": [
    "# my code\n",
    "gradientDescent([22, 1e-10, 10], 1000, .001, test_X, test_y)[0]"
   ]
  },
  {
   "cell_type": "code",
   "execution_count": 326,
   "metadata": {},
   "outputs": [
    {
     "name": "stderr",
     "output_type": "stream",
     "text": [
      "/Users/nico/code/pydata-env/lib/python3.6/site-packages/statsmodels/stats/stattools.py:72: ValueWarning: omni_normtest is not valid with less than 8 observations; 3 samples were given.\n",
      "  \"samples were given.\" % int(n), ValueWarning)\n",
      "/Users/nico/code/pydata-env/lib/python3.6/site-packages/statsmodels/regression/linear_model.py:1392: RuntimeWarning: divide by zero encountered in true_divide\n",
      "  return 1 - np.divide(self.nobs - self.k_constant, self.df_resid) * (1 - self.rsquared)\n",
      "/Users/nico/code/pydata-env/lib/python3.6/site-packages/statsmodels/regression/linear_model.py:1392: RuntimeWarning: invalid value encountered in double_scalars\n",
      "  return 1 - np.divide(self.nobs - self.k_constant, self.df_resid) * (1 - self.rsquared)\n",
      "/Users/nico/code/pydata-env/lib/python3.6/site-packages/statsmodels/regression/linear_model.py:1400: RuntimeWarning: divide by zero encountered in double_scalars\n",
      "  return self.ssr/self.df_resid\n",
      "/Users/nico/code/pydata-env/lib/python3.6/site-packages/statsmodels/regression/linear_model.py:1353: RuntimeWarning: divide by zero encountered in double_scalars\n",
      "  return np.dot(wresid, wresid) / self.df_resid\n"
     ]
    },
    {
     "data": {
      "text/html": [
       "<table class=\"simpletable\">\n",
       "<caption>OLS Regression Results</caption>\n",
       "<tr>\n",
       "  <th>Dep. Variable:</th>            <td>y</td>        <th>  R-squared:         </th> <td>   1.000</td>\n",
       "</tr>\n",
       "<tr>\n",
       "  <th>Model:</th>                   <td>OLS</td>       <th>  Adj. R-squared:    </th> <td>     nan</td>\n",
       "</tr>\n",
       "<tr>\n",
       "  <th>Method:</th>             <td>Least Squares</td>  <th>  F-statistic:       </th> <td>   0.000</td>\n",
       "</tr>\n",
       "<tr>\n",
       "  <th>Date:</th>             <td>Mon, 07 May 2018</td> <th>  Prob (F-statistic):</th>  <td>   nan</td> \n",
       "</tr>\n",
       "<tr>\n",
       "  <th>Time:</th>                 <td>15:06:28</td>     <th>  Log-Likelihood:    </th> <td>  96.870</td>\n",
       "</tr>\n",
       "<tr>\n",
       "  <th>No. Observations:</th>      <td>     3</td>      <th>  AIC:               </th> <td>  -187.7</td>\n",
       "</tr>\n",
       "<tr>\n",
       "  <th>Df Residuals:</th>          <td>     0</td>      <th>  BIC:               </th> <td>  -190.4</td>\n",
       "</tr>\n",
       "<tr>\n",
       "  <th>Df Model:</th>              <td>     2</td>      <th>                     </th>     <td> </td>   \n",
       "</tr>\n",
       "<tr>\n",
       "  <th>Covariance Type:</th>      <td>nonrobust</td>    <th>                     </th>     <td> </td>   \n",
       "</tr>\n",
       "</table>\n",
       "<table class=\"simpletable\">\n",
       "<tr>\n",
       "    <td></td>       <th>coef</th>     <th>std err</th>      <th>t</th>      <th>P>|t|</th>  <th>[0.025</th>    <th>0.975]</th>  \n",
       "</tr>\n",
       "<tr>\n",
       "  <th>const</th> <td>   23.3333</td> <td>      inf</td> <td>        0</td> <td>   nan</td> <td>      nan</td> <td>      nan</td>\n",
       "</tr>\n",
       "<tr>\n",
       "  <th>0</th>     <td> 1.332e-14</td> <td>      inf</td> <td>        0</td> <td>   nan</td> <td>      nan</td> <td>      nan</td>\n",
       "</tr>\n",
       "<tr>\n",
       "  <th>1</th>     <td>   12.4722</td> <td>      inf</td> <td>        0</td> <td>   nan</td> <td>      nan</td> <td>      nan</td>\n",
       "</tr>\n",
       "</table>\n",
       "<table class=\"simpletable\">\n",
       "<tr>\n",
       "  <th>Omnibus:</th>       <td>   nan</td> <th>  Durbin-Watson:     </th> <td>   2.600</td>\n",
       "</tr>\n",
       "<tr>\n",
       "  <th>Prob(Omnibus):</th> <td>   nan</td> <th>  Jarque-Bera (JB):  </th> <td>   0.354</td>\n",
       "</tr>\n",
       "<tr>\n",
       "  <th>Skew:</th>          <td>-0.382</td> <th>  Prob(JB):          </th> <td>   0.838</td>\n",
       "</tr>\n",
       "<tr>\n",
       "  <th>Kurtosis:</th>      <td> 1.500</td> <th>  Cond. No.          </th> <td>    10.5</td>\n",
       "</tr>\n",
       "</table>"
      ],
      "text/plain": [
       "<class 'statsmodels.iolib.summary.Summary'>\n",
       "\"\"\"\n",
       "                            OLS Regression Results                            \n",
       "==============================================================================\n",
       "Dep. Variable:                      y   R-squared:                       1.000\n",
       "Model:                            OLS   Adj. R-squared:                    nan\n",
       "Method:                 Least Squares   F-statistic:                     0.000\n",
       "Date:                Mon, 07 May 2018   Prob (F-statistic):                nan\n",
       "Time:                        15:06:28   Log-Likelihood:                 96.870\n",
       "No. Observations:                   3   AIC:                            -187.7\n",
       "Df Residuals:                       0   BIC:                            -190.4\n",
       "Df Model:                           2                                         \n",
       "Covariance Type:            nonrobust                                         \n",
       "==============================================================================\n",
       "                 coef    std err          t      P>|t|      [0.025      0.975]\n",
       "------------------------------------------------------------------------------\n",
       "const         23.3333        inf          0        nan         nan         nan\n",
       "0           1.332e-14        inf          0        nan         nan         nan\n",
       "1             12.4722        inf          0        nan         nan         nan\n",
       "==============================================================================\n",
       "Omnibus:                          nan   Durbin-Watson:                   2.600\n",
       "Prob(Omnibus):                    nan   Jarque-Bera (JB):                0.354\n",
       "Skew:                          -0.382   Prob(JB):                        0.838\n",
       "Kurtosis:                       1.500   Cond. No.                         10.5\n",
       "==============================================================================\n",
       "\n",
       "Warnings:\n",
       "[1] Standard Errors assume that the covariance matrix of the errors is correctly specified.\n",
       "\"\"\""
      ]
     },
     "execution_count": 326,
     "metadata": {},
     "output_type": "execute_result"
    }
   ],
   "source": [
    "# https://towardsdatascience.com/simple-and-multiple-linear-regression-in-python-c928425168f9\n",
    "\n",
    "import statsmodels.api as sm\n",
    "\n",
    "# Note the difference in argument order\n",
    "\n",
    "model = sm.OLS(\n",
    "    test_y, \n",
    "    sm.add_constant(test_X)\n",
    ").fit()\n",
    "\n",
    "# predictions = model.predict(X) # make the predictions by the model\n",
    "\n",
    "# Print out the statistics\n",
    "model.summary()"
   ]
  },
  {
   "cell_type": "code",
   "execution_count": 327,
   "metadata": {},
   "outputs": [
    {
     "data": {
      "text/plain": [
       "7.956429836395348e-06"
      ]
     },
     "execution_count": 327,
     "metadata": {},
     "output_type": "execute_result"
    }
   ],
   "source": [
    "# what is the cost of the statsmodels function?\n",
    "cost([23.33, 1.3e-14, 12.47], test_X, test_y)"
   ]
  },
  {
   "cell_type": "markdown",
   "metadata": {},
   "source": [
    "---\n",
    "\n",
    "---\n",
    "\n",
    "## apply to the data from the exercise"
   ]
  },
  {
   "cell_type": "code",
   "execution_count": 337,
   "metadata": {},
   "outputs": [
    {
     "data": {
      "text/html": [
       "<div>\n",
       "<style scoped>\n",
       "    .dataframe tbody tr th:only-of-type {\n",
       "        vertical-align: middle;\n",
       "    }\n",
       "\n",
       "    .dataframe tbody tr th {\n",
       "        vertical-align: top;\n",
       "    }\n",
       "\n",
       "    .dataframe thead th {\n",
       "        text-align: right;\n",
       "    }\n",
       "</style>\n",
       "<table border=\"1\" class=\"dataframe\">\n",
       "  <thead>\n",
       "    <tr style=\"text-align: right;\">\n",
       "      <th></th>\n",
       "      <th>space</th>\n",
       "      <th>rooms</th>\n",
       "      <th>prices</th>\n",
       "    </tr>\n",
       "  </thead>\n",
       "  <tbody>\n",
       "    <tr>\n",
       "      <th>count</th>\n",
       "      <td>47.000000</td>\n",
       "      <td>47.000000</td>\n",
       "      <td>47.000000</td>\n",
       "    </tr>\n",
       "    <tr>\n",
       "      <th>mean</th>\n",
       "      <td>2000.680851</td>\n",
       "      <td>3.170213</td>\n",
       "      <td>340412.659574</td>\n",
       "    </tr>\n",
       "    <tr>\n",
       "      <th>std</th>\n",
       "      <td>794.702354</td>\n",
       "      <td>0.760982</td>\n",
       "      <td>125039.899586</td>\n",
       "    </tr>\n",
       "    <tr>\n",
       "      <th>min</th>\n",
       "      <td>852.000000</td>\n",
       "      <td>1.000000</td>\n",
       "      <td>169900.000000</td>\n",
       "    </tr>\n",
       "    <tr>\n",
       "      <th>25%</th>\n",
       "      <td>1432.000000</td>\n",
       "      <td>3.000000</td>\n",
       "      <td>249900.000000</td>\n",
       "    </tr>\n",
       "    <tr>\n",
       "      <th>50%</th>\n",
       "      <td>1888.000000</td>\n",
       "      <td>3.000000</td>\n",
       "      <td>299900.000000</td>\n",
       "    </tr>\n",
       "    <tr>\n",
       "      <th>75%</th>\n",
       "      <td>2269.000000</td>\n",
       "      <td>4.000000</td>\n",
       "      <td>384450.000000</td>\n",
       "    </tr>\n",
       "    <tr>\n",
       "      <th>max</th>\n",
       "      <td>4478.000000</td>\n",
       "      <td>5.000000</td>\n",
       "      <td>699900.000000</td>\n",
       "    </tr>\n",
       "  </tbody>\n",
       "</table>\n",
       "</div>"
      ],
      "text/plain": [
       "             space      rooms         prices\n",
       "count    47.000000  47.000000      47.000000\n",
       "mean   2000.680851   3.170213  340412.659574\n",
       "std     794.702354   0.760982  125039.899586\n",
       "min     852.000000   1.000000  169900.000000\n",
       "25%    1432.000000   3.000000  249900.000000\n",
       "50%    1888.000000   3.000000  299900.000000\n",
       "75%    2269.000000   4.000000  384450.000000\n",
       "max    4478.000000   5.000000  699900.000000"
      ]
     },
     "execution_count": 337,
     "metadata": {},
     "output_type": "execute_result"
    }
   ],
   "source": [
    "houses = pd.read_csv('ex1data2.txt', names=['space', 'rooms', 'prices'])\n",
    "houses.describe()"
   ]
  },
  {
   "cell_type": "code",
   "execution_count": 341,
   "metadata": {},
   "outputs": [
    {
     "data": {
      "text/plain": [
       "<matplotlib.collections.PathCollection at 0x10e432e10>"
      ]
     },
     "execution_count": 341,
     "metadata": {},
     "output_type": "execute_result"
    },
    {
     "data": {
      "image/png": "[encoded data removed]",
      "text/plain": [
       "<matplotlib.figure.Figure at 0x10e3fe1d0>"
      ]
     },
     "metadata": {},
     "output_type": "display_data"
    }
   ],
   "source": [
    "X = houses[['space', 'rooms']]\n",
    "y = houses.prices\n",
    "\n",
    "# normalize\n",
    "X = normalize(X)\n",
    "\n",
    "# apply gradient descent\n",
    "# compare predicted to actual\n",
    "plt.scatter(\n",
    "    hypothesis(\n",
    "        gradientDescent([1,1,1], 1000, .01, X, y)[0], \n",
    "        X), \n",
    "    y\n",
    ")"
   ]
  },
  {
   "cell_type": "code",
   "execution_count": null,
   "metadata": {},
   "outputs": [],
   "source": []
  }
 ],
 "metadata": {
  "kernelspec": {
   "display_name": "Python 3",
   "language": "python",
   "name": "python3"
  },
  "language_info": {
   "codemirror_mode": {
    "name": "ipython",
    "version": 3
   },
   "file_extension": ".py",
   "mimetype": "text/x-python",
   "name": "python",
   "nbconvert_exporter": "python",
   "pygments_lexer": "ipython3",
   "version": "3.6.5"
  }
 },
 "nbformat": 4,
 "nbformat_minor": 2
}
